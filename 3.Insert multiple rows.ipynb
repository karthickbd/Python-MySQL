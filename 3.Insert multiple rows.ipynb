{
 "cells": [
  {
   "cell_type": "markdown",
   "metadata": {},
   "source": [
    "# Insert multiple rows"
   ]
  },
  {
   "cell_type": "code",
   "execution_count": 3,
   "metadata": {},
   "outputs": [],
   "source": [
    "import mysql.connector  "
   ]
  },
  {
   "cell_type": "code",
   "execution_count": 5,
   "metadata": {},
   "outputs": [],
   "source": [
    "      \n",
    "#Create the connection object   \n",
    "myconn = mysql.connector.connect(host = \"localhost\", user = \"root\",passwd = \"\",database = \"nani\")  \n",
    "  \n",
    "#creating the cursor object  \n",
    "cur = myconn.cursor()  \n",
    "sql = \"insert into Employee(name, id, salary, dept_id, branch_name) values (%s, %s, %s, %s, %s)\"  \n",
    "val = [(\"John\", 102, 25000.00, 201, \"Newyork\"),(\"David\",103,25000.00,202,\"Port of spain\"),(\"Nick\",104,90000.00,201,\"Newyork\")]  \n",
    "      \n",
    "try:  \n",
    "    #inserting the values into the table  \n",
    "    cur.executemany(sql,val)  \n",
    "  \n",
    "    #commit the transaction   \n",
    "    myconn.commit()  \n",
    "    print(cur.rowcount,\"records inserted!\")  \n",
    "      \n",
    "except:  \n",
    "    myconn.rollback()  \n",
    "myconn.close()  \n"
   ]
  },
  {
   "cell_type": "code",
   "execution_count": null,
   "metadata": {},
   "outputs": [],
   "source": []
  }
 ],
 "metadata": {
  "kernelspec": {
   "display_name": "Python 3",
   "language": "python",
   "name": "python3"
  },
  "language_info": {
   "codemirror_mode": {
    "name": "ipython",
    "version": 3
   },
   "file_extension": ".py",
   "mimetype": "text/x-python",
   "name": "python",
   "nbconvert_exporter": "python",
   "pygments_lexer": "ipython3",
   "version": "3.7.6"
  }
 },
 "nbformat": 4,
 "nbformat_minor": 4
}
