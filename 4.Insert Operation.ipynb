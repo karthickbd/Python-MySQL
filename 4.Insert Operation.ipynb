{
 "cells": [
  {
   "cell_type": "markdown",
   "metadata": {},
   "source": [
    "# Insert Operation"
   ]
  },
  {
   "cell_type": "code",
   "execution_count": 1,
   "metadata": {},
   "outputs": [],
   "source": [
    "import mysql.connector  "
   ]
  },
  {
   "cell_type": "code",
   "execution_count": 3,
   "metadata": {},
   "outputs": [
    {
     "name": "stdout",
     "output_type": "stream",
     "text": [
      "-1 record inserted!\n"
     ]
    }
   ],
   "source": [
    "\n",
    "#Create the connection object   \n",
    "myconn = mysql.connector.connect(host = \"localhost\", user = \"root\",passwd = \"\",database = \"simbu\")  \n",
    "#creating the cursor object  \n",
    "cur = myconn.cursor()  \n",
    "sql = \"insert into Employee(name, id, salary, dept_id, branch_name) values (%s, %s, %s, %s, %s)\"  \n",
    "  \n",
    "#The row values are provided in the form of tuple   \n",
    "val = (\"simbu\", 110, 25000.00, 201, \"Newyork\")  \n",
    "  \n",
    "try:  \n",
    "    #inserting the values into the table  \n",
    "    cur.execute(sql,val)  \n",
    "  \n",
    "    #commit the transaction   \n",
    "    myconn.commit()  \n",
    "      \n",
    "except:  \n",
    "    myconn.rollback()  \n",
    "print(cur.rowcount,\"record inserted!\")  \n",
    "myconn.close()\n"
   ]
  },
  {
   "cell_type": "code",
   "execution_count": null,
   "metadata": {},
   "outputs": [],
   "source": []
  }
 ],
 "metadata": {
  "kernelspec": {
   "display_name": "Python 3",
   "language": "python",
   "name": "python3"
  },
  "language_info": {
   "codemirror_mode": {
    "name": "ipython",
    "version": 3
   },
   "file_extension": ".py",
   "mimetype": "text/x-python",
   "name": "python",
   "nbconvert_exporter": "python",
   "pygments_lexer": "ipython3",
   "version": "3.7.6"
  }
 },
 "nbformat": 4,
 "nbformat_minor": 4
}
