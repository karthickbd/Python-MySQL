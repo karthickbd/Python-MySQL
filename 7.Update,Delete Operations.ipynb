{
 "cells": [
  {
   "cell_type": "markdown",
   "metadata": {},
   "source": [
    "# Update Operation"
   ]
  },
  {
   "cell_type": "code",
   "execution_count": 2,
   "metadata": {},
   "outputs": [],
   "source": [
    "import mysql.connector  "
   ]
  },
  {
   "cell_type": "code",
   "execution_count": 3,
   "metadata": {},
   "outputs": [],
   "source": [
    "#Create the connection object   \n",
    "myconn = mysql.connector.connect(host = \"localhost\", user = \"root\",passwd = \"\",database = \"simbu\")  \n",
    "  \n",
    "#creating the cursor object  \n",
    "cur = myconn.cursor()  \n",
    "  \n",
    "try:  \n",
    "    #updating the name of the employee whose id is 110  \n",
    "    cur.execute(\"update Employee set name = 'alex' where id = 110\")  \n",
    "    myconn.commit()  \n",
    "except:  \n",
    "      \n",
    "    myconn.rollback()  \n",
    "myconn.close()  "
   ]
  },
  {
   "cell_type": "markdown",
   "metadata": {},
   "source": [
    "# Delete Operation"
   ]
  },
  {
   "cell_type": "code",
   "execution_count": 5,
   "metadata": {},
   "outputs": [],
   "source": [
    "#Create the connection object   \n",
    "myconn = mysql.connector.connect(host = \"localhost\", user = \"root\",passwd = \"\",database = \"simbu\")  \n",
    "  \n",
    "#creating the cursor object  \n",
    "cur = myconn.cursor()  \n",
    "  \n",
    "try:  \n",
    "    #Deleting the employee details whose id is 110  \n",
    "    cur.execute(\"delete from Employee where id = 110\")  \n",
    "    myconn.commit()  \n",
    "except:  \n",
    "      \n",
    "    myconn.rollback()  \n",
    "myconn.close()  "
   ]
  },
  {
   "cell_type": "code",
   "execution_count": null,
   "metadata": {},
   "outputs": [],
   "source": []
  }
 ],
 "metadata": {
  "kernelspec": {
   "display_name": "Python 3",
   "language": "python",
   "name": "python3"
  },
  "language_info": {
   "codemirror_mode": {
    "name": "ipython",
    "version": 3
   },
   "file_extension": ".py",
   "mimetype": "text/x-python",
   "name": "python",
   "nbconvert_exporter": "python",
   "pygments_lexer": "ipython3",
   "version": "3.7.6"
  }
 },
 "nbformat": 4,
 "nbformat_minor": 4
}
