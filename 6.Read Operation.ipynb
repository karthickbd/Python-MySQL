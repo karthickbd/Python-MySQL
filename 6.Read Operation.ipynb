{
 "cells": [
  {
   "cell_type": "markdown",
   "metadata": {},
   "source": [
    "# Read Operation"
   ]
  },
  {
   "cell_type": "code",
   "execution_count": 1,
   "metadata": {},
   "outputs": [],
   "source": [
    "import mysql.connector"
   ]
  },
  {
   "cell_type": "code",
   "execution_count": 3,
   "metadata": {},
   "outputs": [
    {
     "name": "stdout",
     "output_type": "stream",
     "text": [
      "('John', 102, 25000.0, 201, 'Newyork')\n",
      "('David', 103, 25000.0, 202, 'Port of spain')\n",
      "('Nick', 104, 90000.0, 201, 'Newyork')\n",
      "('simbu', 110, 25000.0, 201, 'Newyork')\n"
     ]
    }
   ],
   "source": [
    "  \n",
    "#Create the connection object   \n",
    "myconn = mysql.connector.connect(host = \"localhost\", user = \"root\",passwd = \"\",database = \"simbu\")  \n",
    "  \n",
    "#creating the cursor object  \n",
    "cur = myconn.cursor()  \n",
    "  \n",
    "try:  \n",
    "    #Reading the Employee data      \n",
    "    cur.execute(\"select * from Employee\")  \n",
    "  \n",
    "    #fetching the rows from the cursor object  \n",
    "    result = cur.fetchall()  \n",
    "    #printing the result  \n",
    "      \n",
    "    for x in result:  \n",
    "        print(x);  \n",
    "except:  \n",
    "    myconn.rollback()  \n",
    "myconn.close()  "
   ]
  },
  {
   "cell_type": "markdown",
   "metadata": {},
   "source": [
    "* Reading specific columns"
   ]
  },
  {
   "cell_type": "code",
   "execution_count": 5,
   "metadata": {},
   "outputs": [
    {
     "name": "stdout",
     "output_type": "stream",
     "text": [
      "('John', 102, 25000.0)\n",
      "('David', 103, 25000.0)\n",
      "('Nick', 104, 90000.0)\n",
      "('simbu', 110, 25000.0)\n"
     ]
    }
   ],
   "source": [
    "\n",
    "#Create the connection object   \n",
    "myconn = mysql.connector.connect(host = \"localhost\", user = \"root\",passwd = \"\",database = \"simbu\")  \n",
    "#creating the cursor object  \n",
    "cur = myconn.cursor()  \n",
    "try:  \n",
    "    #Reading the Employee data      \n",
    "    cur.execute(\"select name, id, salary from Employee\")  \n",
    "  \n",
    "    #fetching the rows from the cursor object  \n",
    "    result = cur.fetchall()  \n",
    "    #printing the result  \n",
    "    for x in result:  \n",
    "        print(x);  \n",
    "except:  \n",
    "    myconn.rollback()  \n",
    "myconn.close()  "
   ]
  },
  {
   "cell_type": "markdown",
   "metadata": {},
   "source": [
    "* The fetchone() method"
   ]
  },
  {
   "cell_type": "code",
   "execution_count": 6,
   "metadata": {},
   "outputs": [
    {
     "name": "stdout",
     "output_type": "stream",
     "text": [
      "('John', 102, 25000.0)\n"
     ]
    }
   ],
   "source": [
    "import mysql.connector  \n",
    "  \n",
    "#Create the connection object   \n",
    "myconn = mysql.connector.connect(host = \"localhost\", user = \"root\",passwd = \"\",database = \"simbu\")  \n",
    "  \n",
    "#creating the cursor object  \n",
    "cur = myconn.cursor()  \n",
    "  \n",
    "try:  \n",
    "    #Reading the Employee data      \n",
    "    cur.execute(\"select name, id, salary from Employee\")  \n",
    "  \n",
    "    #fetching the first row from the cursor object  \n",
    "    result = cur.fetchone()  \n",
    "  \n",
    "    #printing the result  \n",
    "    print(result)  \n",
    "except:  \n",
    "    myconn.rollback()  \n",
    "      \n",
    "myconn.close()  "
   ]
  },
  {
   "cell_type": "markdown",
   "metadata": {},
   "source": [
    "* Formatting the result"
   ]
  },
  {
   "cell_type": "code",
   "execution_count": 7,
   "metadata": {},
   "outputs": [
    {
     "name": "stdout",
     "output_type": "stream",
     "text": [
      "Name    id    Salary\n",
      "John    102    25000\n",
      "David    103    25000\n",
      "Nick    104    90000\n",
      "simbu    110    25000\n"
     ]
    }
   ],
   "source": [
    "import mysql.connector  \n",
    "  \n",
    "#Create the connection object   \n",
    "myconn = mysql.connector.connect(host = \"localhost\", user = \"root\",passwd = \"\",database = \"simbu\")  \n",
    "  \n",
    "#creating the cursor object  \n",
    "cur = myconn.cursor()  \n",
    "  \n",
    "try:  \n",
    "  \n",
    "    #Reading the Employee data      \n",
    "    cur.execute(\"select name, id, salary from Employee\")  \n",
    "  \n",
    "    #fetching the rows from the cursor object  \n",
    "    result = cur.fetchall()  \n",
    "  \n",
    "    print(\"Name    id    Salary\");  \n",
    "    for row in result:  \n",
    "        print(\"%s    %d    %d\"%(row[0],row[1],row[2]))  \n",
    "except:  \n",
    "    myconn.rollback()  \n",
    "myconn.close() "
   ]
  },
  {
   "cell_type": "markdown",
   "metadata": {},
   "source": [
    "* Using where clause"
   ]
  },
  {
   "cell_type": "code",
   "execution_count": 8,
   "metadata": {},
   "outputs": [
    {
     "name": "stdout",
     "output_type": "stream",
     "text": [
      "Name    id    Salary\n",
      "John    102    25000\n"
     ]
    }
   ],
   "source": [
    "\n",
    "  \n",
    "#Create the connection object   \n",
    "myconn = mysql.connector.connect(host = \"localhost\", user = \"root\",passwd = \"\",database = \"simbu\")  \n",
    "  \n",
    "#creating the cursor object  \n",
    "cur = myconn.cursor()  \n",
    "  \n",
    "try:  \n",
    "    #Reading the Employee data      \n",
    "    cur.execute(\"select name, id, salary from Employee where name like 'J%'\")  \n",
    "  \n",
    "    #fetching the rows from the cursor object  \n",
    "    result = cur.fetchall()  \n",
    "  \n",
    "    print(\"Name    id    Salary\");  \n",
    "  \n",
    "    for row in result:  \n",
    "        print(\"%s    %d    %d\"%(row[0],row[1],row[2]))  \n",
    "except:  \n",
    "    myconn.rollback()  \n",
    "myconn.close()  \n"
   ]
  },
  {
   "cell_type": "markdown",
   "metadata": {},
   "source": [
    "* Example: printing the names with id = 101, 102, and 103"
   ]
  },
  {
   "cell_type": "code",
   "execution_count": 9,
   "metadata": {},
   "outputs": [
    {
     "name": "stdout",
     "output_type": "stream",
     "text": [
      "Name    id    Salary\n",
      "John    102    25000\n",
      "David    103    25000\n"
     ]
    }
   ],
   "source": [
    "#Create the connection object   \n",
    "myconn = mysql.connector.connect(host = \"localhost\", user = \"root\",passwd = \"\",database = \"simbu\")  \n",
    "  \n",
    "#creating the cursor object  \n",
    "cur = myconn.cursor()  \n",
    "  \n",
    "try:  \n",
    "    #Reading the Employee data      \n",
    "    cur.execute(\"select name, id, salary from Employee where id in (101,102,103)\")  \n",
    "  \n",
    "    #fetching the rows from the cursor object  \n",
    "    result = cur.fetchall()  \n",
    "  \n",
    "    print(\"Name    id    Salary\");  \n",
    "  \n",
    "    for row in result:  \n",
    "        print(\"%s    %d    %d\"%(row[0],row[1],row[2]))  \n",
    "except:  \n",
    "    myconn.rollback()  \n",
    "      \n",
    "myconn.close()  "
   ]
  },
  {
   "cell_type": "markdown",
   "metadata": {},
   "source": [
    "* Ordering the result"
   ]
  },
  {
   "cell_type": "code",
   "execution_count": 10,
   "metadata": {},
   "outputs": [
    {
     "name": "stdout",
     "output_type": "stream",
     "text": [
      "Name    id    Salary\n",
      "David    103    25000\n",
      "John    102    25000\n",
      "Nick    104    90000\n",
      "simbu    110    25000\n"
     ]
    }
   ],
   "source": [
    "#Create the connection object   \n",
    "myconn = mysql.connector.connect(host = \"localhost\", user = \"root\",passwd = \"\",database = \"simbu\")  \n",
    "  \n",
    "#creating the cursor object  \n",
    "cur = myconn.cursor()  \n",
    "  \n",
    "try:  \n",
    "    #Reading the Employee data      \n",
    "    cur.execute(\"select name, id, salary from Employee order by name\")  \n",
    "  \n",
    "    #fetching the rows from the cursor object  \n",
    "    result = cur.fetchall()  \n",
    "  \n",
    "    print(\"Name    id    Salary\");  \n",
    "  \n",
    "    for row in result:  \n",
    "        print(\"%s    %d    %d\"%(row[0],row[1],row[2]))  \n",
    "except:  \n",
    "    myconn.rollback()  \n",
    "myconn.close()  "
   ]
  },
  {
   "cell_type": "markdown",
   "metadata": {},
   "source": [
    "* Order by DESC"
   ]
  },
  {
   "cell_type": "code",
   "execution_count": 11,
   "metadata": {},
   "outputs": [
    {
     "name": "stdout",
     "output_type": "stream",
     "text": [
      "Name    id    Salary\n",
      "simbu    110    25000\n",
      "Nick    104    90000\n",
      "John    102    25000\n",
      "David    103    25000\n"
     ]
    }
   ],
   "source": [
    "#Create the connection object   \n",
    "myconn = mysql.connector.connect(host = \"localhost\", user = \"root\",passwd = \"\",database = \"simbu\")  \n",
    "  \n",
    "#creating the cursor object  \n",
    "cur = myconn.cursor()  \n",
    "  \n",
    "try:  \n",
    "    #Reading the Employee data      \n",
    "    cur.execute(\"select name, id, salary from Employee order by name desc\")  \n",
    "  \n",
    "    #fetching the rows from the cursor object  \n",
    "    result = cur.fetchall()  \n",
    "  \n",
    "    #printing the result  \n",
    "    print(\"Name    id    Salary\");  \n",
    "    for row in result:  \n",
    "        print(\"%s    %d    %d\"%(row[0],row[1],row[2]))  \n",
    "except:  \n",
    "    myconn.rollback()  \n",
    "myconn.close()  "
   ]
  },
  {
   "cell_type": "code",
   "execution_count": null,
   "metadata": {},
   "outputs": [],
   "source": []
  }
 ],
 "metadata": {
  "kernelspec": {
   "display_name": "Python 3",
   "language": "python",
   "name": "python3"
  },
  "language_info": {
   "codemirror_mode": {
    "name": "ipython",
    "version": 3
   },
   "file_extension": ".py",
   "mimetype": "text/x-python",
   "name": "python",
   "nbconvert_exporter": "python",
   "pygments_lexer": "ipython3",
   "version": "3.7.6"
  }
 },
 "nbformat": 4,
 "nbformat_minor": 4
}
