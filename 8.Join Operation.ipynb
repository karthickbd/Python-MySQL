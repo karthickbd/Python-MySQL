{
 "cells": [
  {
   "cell_type": "markdown",
   "metadata": {},
   "source": [
    "# Join Operation"
   ]
  },
  {
   "cell_type": "code",
   "execution_count": 6,
   "metadata": {},
   "outputs": [],
   "source": [
    "import mysql.connector  "
   ]
  },
  {
   "cell_type": "code",
   "execution_count": 7,
   "metadata": {},
   "outputs": [],
   "source": [
    "\n",
    "  \n",
    "#Create the connection object   \n",
    "myconn = mysql.connector.connect(host = \"localhost\", user = \"root\",passwd = \"\",database = \"simbu\")  \n",
    "  \n",
    "#creating the cursor object  \n",
    "cur = myconn.cursor()  \n",
    "  \n",
    "try:  \n",
    "    #joining the two tables on departments_id  \n",
    "    cur.execute(\"select Employee.id, Employee.name, Employee.salary, Departments.Dept_id, Departments.Dept_Name from Departments join Employee on Departments.Dept_id = Employee.Dept_id\")  \n",
    "    print(\"ID    Name    Salary    Dept_Id    Dept_Name\")  \n",
    "    for row in cur:  \n",
    "        print(\"%d    %s    %d    %d    %s\"%(row[0], row[1],row[2],row[3],row[4]))  \n",
    "          \n",
    "except:  \n",
    "    myconn.rollback()  \n",
    "myconn.close()  "
   ]
  },
  {
   "cell_type": "markdown",
   "metadata": {},
   "source": [
    "* Right Join"
   ]
  },
  {
   "cell_type": "code",
   "execution_count": 8,
   "metadata": {},
   "outputs": [],
   "source": [
    "#Create the connection object   \n",
    "myconn = mysql.connector.connect(host = \"localhost\", user = \"root\",passwd = \"\",database = \"simbu\")  \n",
    "  \n",
    "#creating the cursor object  \n",
    "cur = myconn.cursor()  \n",
    "  \n",
    "try:  \n",
    "    #joining the two tables on departments_id  \n",
    "    result = cur.execute(\"select Employee.id, Employee.name, Employee.salary, Departments.Dept_id, Departments.Dept_Name from Departments right join Employee on Departments.Dept_id = Employee.Dept_id\")  \n",
    "      \n",
    "    print(\"ID    Name    Salary    Dept_Id    Dept_Name\")  \n",
    "      \n",
    "    for row in cur:  \n",
    "        print(row[0],\"    \", row[1],\"    \",row[2],\"    \",row[3],\"    \",row[4])  \n",
    "      \n",
    "      \n",
    "          \n",
    "except:  \n",
    "    myconn.rollback()  \n",
    "myconn.close()  "
   ]
  },
  {
   "cell_type": "markdown",
   "metadata": {},
   "source": [
    "* Left Join"
   ]
  },
  {
   "cell_type": "code",
   "execution_count": 9,
   "metadata": {},
   "outputs": [],
   "source": [
    "#Create the connection object   \n",
    "myconn = mysql.connector.connect(host = \"localhost\", user = \"root\",passwd = \"\",database = \"simbu\")  \n",
    "  \n",
    "#creating the cursor object  \n",
    "cur = myconn.cursor()  \n",
    "  \n",
    "try:  \n",
    "    #joining the two tables on departments_id  \n",
    "    result = cur.execute(\"select Employee.id, Employee.name, Employee.salary, Departments.Dept_id, Departments.Dept_Name from Departments left join Employee on Departments.Dept_id = Employee.Dept_id\")  \n",
    "    print(\"ID    Name    Salary    Dept_Id    Dept_Name\")  \n",
    "    for row in cur:  \n",
    "        print(row[0],\"    \", row[1],\"    \",row[2],\"    \",row[3],\"    \",row[4])  \n",
    "      \n",
    "      \n",
    "          \n",
    "except:  \n",
    "    myconn.rollback()  \n",
    "myconn.close()  "
   ]
  },
  {
   "cell_type": "code",
   "execution_count": null,
   "metadata": {},
   "outputs": [],
   "source": []
  }
 ],
 "metadata": {
  "kernelspec": {
   "display_name": "Python 3",
   "language": "python",
   "name": "python3"
  },
  "language_info": {
   "codemirror_mode": {
    "name": "ipython",
    "version": 3
   },
   "file_extension": ".py",
   "mimetype": "text/x-python",
   "name": "python",
   "nbconvert_exporter": "python",
   "pygments_lexer": "ipython3",
   "version": "3.7.6"
  }
 },
 "nbformat": 4,
 "nbformat_minor": 4
}
