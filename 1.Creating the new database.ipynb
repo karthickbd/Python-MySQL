{
 "cells": [
  {
   "cell_type": "markdown",
   "metadata": {},
   "source": [
    "# Creating the new database"
   ]
  },
  {
   "cell_type": "code",
   "execution_count": 5,
   "metadata": {},
   "outputs": [
    {
     "name": "stdout",
     "output_type": "stream",
     "text": [
      "Collecting mysql.connector\n",
      "  Using cached mysql-connector-2.2.9.tar.gz (11.9 MB)\n",
      "Building wheels for collected packages: mysql.connector\n",
      "  Building wheel for mysql.connector (setup.py): started\n",
      "  Building wheel for mysql.connector (setup.py): finished with status 'done'\n",
      "  Created wheel for mysql.connector: filename=mysql_connector-2.2.9-cp37-cp37m-win_amd64.whl size=247952 sha256=96898c9af669c756399126fb3c2338630825c57e692da9da4299ddd16953fd46\n",
      "  Stored in directory: c:\\users\\jaikumar\\appdata\\local\\pip\\cache\\wheels\\42\\2f\\c3\\692fc7fc1f0d8c06b9175d94f0fc30f4f92348f5df5af1b8b7\n",
      "Successfully built mysql.connector\n",
      "Installing collected packages: mysql.connector\n",
      "Successfully installed mysql.connector\n"
     ]
    }
   ],
   "source": [
    "!pip install mysql.connector "
   ]
  },
  {
   "cell_type": "code",
   "execution_count": 6,
   "metadata": {},
   "outputs": [],
   "source": [
    "import mysql.connector  "
   ]
  },
  {
   "cell_type": "code",
   "execution_count": 9,
   "metadata": {},
   "outputs": [
    {
     "name": "stdout",
     "output_type": "stream",
     "text": [
      "('information_schema',)\n",
      "('karthi',)\n",
      "('mysql',)\n",
      "('nani',)\n",
      "('performance_schema',)\n",
      "('phpmyadmin',)\n",
      "('simbu',)\n",
      "('test',)\n"
     ]
    }
   ],
   "source": [
    "\n",
    "#Create the connection object   \n",
    "myconn = mysql.connector.connect(host = \"localhost\", user = \"root\",passwd = \"\")  \n",
    "  \n",
    "#creating the cursor object \n",
    "cur = myconn.cursor()  \n",
    "  \n",
    "try:  \n",
    "    #creating a new database  \n",
    "    #cur.execute(\"drop database silambu\")  \n",
    "  \n",
    "    #getting the list of all the databases which will now include the new database PythonDB  \n",
    "    cur.execute(\"show databases\")  \n",
    "      \n",
    "except:  \n",
    "    myconn.rollback()  \n",
    "for x in cur:  \n",
    "        print(x)  \n",
    "          \n",
    "myconn.close()  \n"
   ]
  },
  {
   "cell_type": "code",
   "execution_count": null,
   "metadata": {},
   "outputs": [],
   "source": []
  }
 ],
 "metadata": {
  "kernelspec": {
   "display_name": "Python 3",
   "language": "python",
   "name": "python3"
  },
  "language_info": {
   "codemirror_mode": {
    "name": "ipython",
    "version": 3
   },
   "file_extension": ".py",
   "mimetype": "text/x-python",
   "name": "python",
   "nbconvert_exporter": "python",
   "pygments_lexer": "ipython3",
   "version": "3.7.6"
  }
 },
 "nbformat": 4,
 "nbformat_minor": 4
}
